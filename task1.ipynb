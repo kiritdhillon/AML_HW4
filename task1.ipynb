{
 "cells": [
  {
   "cell_type": "markdown",
   "metadata": {},
   "source": [
    "<p style=\"font-size:30px; text-align:center; line-height:120%\">\n",
    "    <br> \n",
    "        <b>\n",
    "        COMS 4995 Applied ML\n",
    "            Homework 4 \n",
    "        <br></br>\n",
    "            Wine Reviews: Task 1\n",
    "        <br></br>\n",
    "        </b> \n",
    "    <br> \n",
    "</p>\n",
    "<p style=\"font-size:18px; text-align:left; line-height:120%\">\n",
    "    <br> \n",
    "        <b>\n",
    "        Name: Kirit Dhillon, Sagar Lal\n",
    "        </b>\n",
    "    <br> \n",
    "        <b>\n",
    "        Uni: ksd2142, sl3946\n",
    "        </b>\n",
    "</p>"
   ]
  },
  {
   "cell_type": "code",
   "execution_count": 1,
   "metadata": {},
   "outputs": [],
   "source": [
    "import pandas as pd\n",
    "import numpy as np\n",
    "import matplotlib.pyplot as plt\n",
    "%matplotlib inline"
   ]
  },
  {
   "cell_type": "markdown",
   "metadata": {},
   "source": [
    "### Data Loanding and Exploration"
   ]
  },
  {
   "cell_type": "code",
   "execution_count": 7,
   "metadata": {},
   "outputs": [],
   "source": [
    "data = pd.read_csv(\"winemag-data-130k-v2.csv\")\n",
    "\n",
    "# Remove non-usefule columns\n",
    "data = data.drop(['taster_name', 'taster_twitter_handle'], axis=1)"
   ]
  },
  {
   "cell_type": "code",
   "execution_count": 15,
   "metadata": {},
   "outputs": [
    {
     "name": "stdout",
     "output_type": "stream",
     "text": [
      "Unnamed: 0       int64\n",
      "country         object\n",
      "description     object\n",
      "designation     object\n",
      "points           int64\n",
      "price          float64\n",
      "province        object\n",
      "region_1        object\n",
      "region_2        object\n",
      "title           object\n",
      "variety         object\n",
      "winery          object\n",
      "dtype: object\n",
      "(129971, 12)\n"
     ]
    }
   ],
   "source": [
    "print(data.dtypes)\n",
    "print(data.shape)"
   ]
  },
  {
   "cell_type": "code",
   "execution_count": 48,
   "metadata": {},
   "outputs": [],
   "source": [
    "data_y = data['points']\n",
    "non_text_data_x = data.drop(['description', 'points'], axis=1)\n",
    "text_data_x = data[['description']]"
   ]
  },
  {
   "cell_type": "code",
   "execution_count": 49,
   "metadata": {},
   "outputs": [
    {
     "name": "stdout",
     "output_type": "stream",
     "text": [
      "(129971,)\n",
      "(129971, 10)\n",
      "(129971, 1)\n"
     ]
    }
   ],
   "source": [
    "print(data_y.shape)\n",
    "print(non_text_data_x.shape)\n",
    "print(text_data_x.shape)"
   ]
  },
  {
   "cell_type": "markdown",
   "metadata": {},
   "source": [
    "## 1.1: Baseline model using non-text features"
   ]
  },
  {
   "cell_type": "code",
   "execution_count": 24,
   "metadata": {},
   "outputs": [],
   "source": [
    "from sklearn.model_selection import train_test_split\n",
    "from sklearn.model_selection import GridSearchCV\n",
    "from sklearn.preprocessing import StandardScaler, OneHotEncoder\n",
    "from sklearn.compose import make_column_transformer\n",
    "from sklearn.pipeline import make_pipeline\n",
    "from sklearn.model_selection import cross_val_score\n",
    "from sklearn.impute import SimpleImputer\n",
    "from sklearn.linear_model import Ridge\n",
    "from sklearn.compose import ColumnTransformer\n",
    "from sklearn.pipeline import Pipeline"
   ]
  },
  {
   "cell_type": "code",
   "execution_count": 52,
   "metadata": {},
   "outputs": [],
   "source": [
    "X_trainval, X_test, y_trainval, y_test = train_test_split(non_text_data_x, data_y)\n",
    "continuous_features = ['price']\n",
    "categorical_features = ['country', 'title', 'designation', 'province', 'region_1', 'region_2',\n",
    "                        'variety', 'winery']"
   ]
  },
  {
   "cell_type": "code",
   "execution_count": 53,
   "metadata": {},
   "outputs": [],
   "source": [
    "base_categorical_transformer = Pipeline(steps=[('simpleimputer', SimpleImputer(strategy = 'constant', fill_value = \"missing\")),\n",
    "                                          ('onehot', OneHotEncoder(handle_unknown='ignore'))])\n",
    "\n",
    "base_continuous_transformer = Pipeline(steps=[('simpleimputer', SimpleImputer(strategy = \"median\")),\n",
    "                                         ('scaler', StandardScaler())])\n",
    "\n",
    "base_continuous_and_categorical_preprocessor = ColumnTransformer(\n",
    "    transformers=[\n",
    "        ('num', base_continuous_transformer, continuous_features),\n",
    "        ('cat', base_categorical_transformer, categorical_features)\n",
    "    ])"
   ]
  },
  {
   "cell_type": "code",
   "execution_count": 54,
   "metadata": {},
   "outputs": [
    {
     "name": "stdout",
     "output_type": "stream",
     "text": [
      "Base Ridge Model with only cross val mean score:  0.5150964907714015\n"
     ]
    }
   ],
   "source": [
    "# Baseline Ridge\n",
    "base_ridge_clf = Pipeline(steps=[('preprocessor', base_continuous_and_categorical_preprocessor),\n",
    "                                ('classifier', Ridge())])\n",
    "\n",
    "base_ridge_scores = cross_val_score(base_ridge_clf, X_trainval, y_trainval, cv=10)\n",
    "\n",
    "print(\"Base Ridge Model with only cross val mean score: \", np.mean(base_ridge_scores))"
   ]
  },
  {
   "cell_type": "code",
   "execution_count": 55,
   "metadata": {},
   "outputs": [
    {
     "name": "stdout",
     "output_type": "stream",
     "text": [
      "Basic ridge score with gridsearch 0.52\n",
      "Best param: {'regressor__alpha': 1}\n"
     ]
    }
   ],
   "source": [
    "ridge_pipeline = Pipeline(steps=[('preprocessor', base_continuous_and_categorical_preprocessor),\n",
    "                                ('regressor', Ridge())])\n",
    "\n",
    "param_grid =  {\n",
    "               'regressor__alpha': [0.01, 0.1, 1, 10, 100]\n",
    "              }\n",
    "grid = GridSearchCV(ridge_pipeline, param_grid, cv=3, return_train_score=True)\n",
    "grid.fit(X_trainval, y_trainval)\n",
    "\n",
    "print((\"Basic ridge score with gridsearch %.2f\"\n",
    "       %grid.score(X_test, y_test)))\n",
    "print(\"Best param:\", grid.best_params_)"
   ]
  },
  {
   "cell_type": "markdown",
   "metadata": {},
   "source": [
    "## 1.2: Text-based model based on:\n",
    "- Bag-of-Words\n",
    "- Linear Model"
   ]
  },
  {
   "cell_type": "code",
   "execution_count": 68,
   "metadata": {},
   "outputs": [],
   "source": [
    "from sklearn.feature_extraction.text import CountVectorizer\n",
    "\n",
    "X_trainval_text, X_test_text, y_trainval_text, y_test_text = train_test_split(text_data_x, data_y)"
   ]
  },
  {
   "cell_type": "code",
   "execution_count": 70,
   "metadata": {},
   "outputs": [],
   "source": [
    "vect = CountVectorizer(stop_words=\"english\", max_features=1000)\n",
    "\n",
    "X_train_transform = vect.fit_transform(X_trainval_text['description'])\n",
    "X_test_text_transformed = vect.transform(X_test_text['description'])"
   ]
  },
  {
   "cell_type": "code",
   "execution_count": 71,
   "metadata": {},
   "outputs": [
    {
     "name": "stdout",
     "output_type": "stream",
     "text": [
      "(97478, 1000)\n",
      "(32493, 1000)\n"
     ]
    }
   ],
   "source": [
    "print(X_train_transform.shape)\n",
    "print(X_test_text_transformed.shape)"
   ]
  },
  {
   "cell_type": "code",
   "execution_count": 60,
   "metadata": {},
   "outputs": [
    {
     "data": {
      "text/html": [
       "<div>\n",
       "<style scoped>\n",
       "    .dataframe tbody tr th:only-of-type {\n",
       "        vertical-align: middle;\n",
       "    }\n",
       "\n",
       "    .dataframe tbody tr th {\n",
       "        vertical-align: top;\n",
       "    }\n",
       "\n",
       "    .dataframe thead th {\n",
       "        text-align: right;\n",
       "    }\n",
       "</style>\n",
       "<table border=\"1\" class=\"dataframe\">\n",
       "  <thead>\n",
       "    <tr style=\"text-align: right;\">\n",
       "      <th></th>\n",
       "      <th>description</th>\n",
       "    </tr>\n",
       "  </thead>\n",
       "  <tbody>\n",
       "    <tr>\n",
       "      <td>58572</td>\n",
       "      <td>With its slightly sweet notes of pineapple pie...</td>\n",
       "    </tr>\n",
       "    <tr>\n",
       "      <td>99769</td>\n",
       "      <td>This perfumed wine has remarkable density from...</td>\n",
       "    </tr>\n",
       "    <tr>\n",
       "      <td>127329</td>\n",
       "      <td>Made from a predominance of Pinot Noir, with 8...</td>\n",
       "    </tr>\n",
       "    <tr>\n",
       "      <td>73570</td>\n",
       "      <td>There's a thick, slightly muddled quality to t...</td>\n",
       "    </tr>\n",
       "    <tr>\n",
       "      <td>74965</td>\n",
       "      <td>Intriguing hints of passion fruit and tomato l...</td>\n",
       "    </tr>\n",
       "    <tr>\n",
       "      <td>...</td>\n",
       "      <td>...</td>\n",
       "    </tr>\n",
       "    <tr>\n",
       "      <td>91314</td>\n",
       "      <td>Made of 90% Sangiovese, 5% Colorino and 5% Mer...</td>\n",
       "    </tr>\n",
       "    <tr>\n",
       "      <td>45395</td>\n",
       "      <td>A blend of 70% Sangiovese, 20% Merlot and 10% ...</td>\n",
       "    </tr>\n",
       "    <tr>\n",
       "      <td>43288</td>\n",
       "      <td>With slightly sharp, herbal red-fruit aromas, ...</td>\n",
       "    </tr>\n",
       "    <tr>\n",
       "      <td>102543</td>\n",
       "      <td>A touch of honey brings a sense of sweetness t...</td>\n",
       "    </tr>\n",
       "    <tr>\n",
       "      <td>115098</td>\n",
       "      <td>Aromas of white flower and peach pulp reinforc...</td>\n",
       "    </tr>\n",
       "  </tbody>\n",
       "</table>\n",
       "<p>73108 rows × 1 columns</p>\n",
       "</div>"
      ],
      "text/plain": [
       "                                              description\n",
       "58572   With its slightly sweet notes of pineapple pie...\n",
       "99769   This perfumed wine has remarkable density from...\n",
       "127329  Made from a predominance of Pinot Noir, with 8...\n",
       "73570   There's a thick, slightly muddled quality to t...\n",
       "74965   Intriguing hints of passion fruit and tomato l...\n",
       "...                                                   ...\n",
       "91314   Made of 90% Sangiovese, 5% Colorino and 5% Mer...\n",
       "45395   A blend of 70% Sangiovese, 20% Merlot and 10% ...\n",
       "43288   With slightly sharp, herbal red-fruit aromas, ...\n",
       "102543  A touch of honey brings a sense of sweetness t...\n",
       "115098  Aromas of white flower and peach pulp reinforc...\n",
       "\n",
       "[73108 rows x 1 columns]"
      ]
     },
     "execution_count": 60,
     "metadata": {},
     "output_type": "execute_result"
    }
   ],
   "source": [
    "text_train"
   ]
  },
  {
   "cell_type": "code",
   "execution_count": 73,
   "metadata": {},
   "outputs": [
    {
     "name": "stdout",
     "output_type": "stream",
     "text": [
      "Basic ridge score with gridsearch 0.61\n",
      "Best param: {'regressor__alpha': 10}\n"
     ]
    }
   ],
   "source": [
    "ridge_pipeline = Pipeline(steps=[('regressor', Ridge())])\n",
    "\n",
    "param_grid =  {\n",
    "               'regressor__alpha': [0.01, 0.1, 1, 10, 100]\n",
    "              }\n",
    "grid = GridSearchCV(ridge_pipeline, param_grid, cv=3, return_train_score=True)\n",
    "grid.fit(X_train_transform, y_trainval_text)\n",
    "\n",
    "print((\"Basic ridge score with gridsearch %.2f\"\n",
    "       %grid.score(X_test_text_transformed, y_test_text)))\n",
    "print(\"Best param:\", grid.best_params_)"
   ]
  },
  {
   "cell_type": "markdown",
   "metadata": {},
   "source": [
    "## 1.3: More text-based models:\n",
    "- n-grams\n",
    "- characters\n",
    "- tf-idf\n",
    "- other ways to tune BoW"
   ]
  },
  {
   "cell_type": "markdown",
   "metadata": {},
   "source": [
    "## 1.4: Text and non-text features hybrid model"
   ]
  },
  {
   "cell_type": "code",
   "execution_count": null,
   "metadata": {},
   "outputs": [],
   "source": []
  }
 ],
 "metadata": {
  "kernelspec": {
   "display_name": "Python 3",
   "language": "python",
   "name": "python3"
  },
  "language_info": {
   "codemirror_mode": {
    "name": "ipython",
    "version": 3
   },
   "file_extension": ".py",
   "mimetype": "text/x-python",
   "name": "python",
   "nbconvert_exporter": "python",
   "pygments_lexer": "ipython3",
   "version": "3.7.4"
  }
 },
 "nbformat": 4,
 "nbformat_minor": 2
}
